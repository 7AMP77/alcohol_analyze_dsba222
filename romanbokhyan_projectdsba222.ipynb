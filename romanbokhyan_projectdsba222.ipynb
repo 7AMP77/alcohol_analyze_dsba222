{
 "cells": [
  {
   "cell_type": "markdown",
   "metadata": {},
   "source": [
    "# The Impact of Families on Alcohol Problems and Socialization of Children in Portugal.\n"
   ]
  },
  {
   "cell_type": "raw",
   "metadata": {},
   "source": [
    "In this project I am going to check my hypotheze that children living in full families in Portugal and in single-parent families have the same problems with socialization and tendency to alcohol dependence.\n",
    "The original dataset includes a lot of information about Portuguese school students, including information about their families, children's romantic relationships, and alcohol use."
   ]
  },
  {
   "cell_type": "raw",
   "metadata": {},
   "source": [
    "Let's install all the libraries that might be useful to me."
   ]
  },
  {
   "cell_type": "code",
   "execution_count": 12,
   "metadata": {},
   "outputs": [],
   "source": [
    "import numpy as np\n",
    "import pandas as pd\n",
    "import streamlit as st\n",
    "import functions\n",
    "import plotly.graph_objects as go\n",
    "import plotly.figure_factory as ff"
   ]
  },
  {
   "cell_type": "raw",
   "metadata": {},
   "source": [
    "Below I will write the functions that will help me in plotting the graphs."
   ]
  },
  {
   "cell_type": "code",
   "execution_count": 13,
   "metadata": {},
   "outputs": [],
   "source": [
    "import matplotlib.pyplot as plt\n",
    "import streamlit as st\n",
    "import plotly.express as px\n",
    "\n",
    "\n",
    "def drawpie(df, values):\n",
    "    fig = px.pie(df, values=values, names=values)\n",
    "    st.plotly_chart(fig)\n",
    "\n",
    "\n",
    "def drawbox(df, x, y):\n",
    "    fig = px.box(df, x=x, y=y)\n",
    "    st.plotly_chart(fig)\n",
    "\n",
    "\n",
    "def drawbar(df, x, y):\n",
    "    fig = px.bar(df, x=x, y=y)\n",
    "    st.plotly_chart(fig)\n",
    "\n",
    "\n",
    "def drawstak(x, y, xt, yt):\n",
    "    fig, ax = plt.subplots()\n",
    "    plt.stackplot(x, y)\n",
    "    ax.set_ylabel(yt)\n",
    "    ax.set_xlabel(xt)\n",
    "    st.pyplot(fig)\n",
    "\n",
    "\n",
    "def drawline(df, x, y):\n",
    "    fig = px.line(df, x=x, y=y)\n",
    "    st.plotly_chart(fig)\n",
    "\n",
    "\n",
    "def drawscatter(df, x, y):\n",
    "    fig = px.scatter(df, x=x, y=y)\n",
    "    st.plotly_chart(fig)\n",
    "\n",
    "\n"
   ]
  },
  {
   "cell_type": "raw",
   "metadata": {},
   "source": [
    "Below I will sort my dataset, remove unnecessary columns, check classes and the presence of NaN elements and display the resulting datasets with which I will later work. But before that, I will introduce you to the values that you may encounter in the tables.\n",
    "famize - family size, LE3 - less or equal to 3 or GT3 - greater than 3;\n",
    "Pstatus - parents cohabitation status, T - living together or A - apart;\n",
    "guardian - students guardian ,nominal: mother, father or other;\n",
    "romantic - with a romantic relationship, binary: yes or no;\n",
    "goout - going out with friends, numeric: from 1 - very low to 5 - very high;\n",
    "Dalc - workday alcohol consumption,numeric: from 1 - very low to 5 - very high;\n",
    "Walc - weekend alcohol consumption, numeric: from 1 - very low to 5 - very high;\n",
    "alcoeveryday - the arithmetic mean of each child's daily alcohol consumption."
   ]
  },
  {
   "cell_type": "code",
   "execution_count": null,
   "metadata": {},
   "outputs": [],
   "source": [
    "df = pd.read_csv('Maths.csv')\n",
    "df2 = df[[\"famsize\", \"Pstatus\", \"guardian\", \"romantic\", \"goout\", \"Dalc\", \"Walc\"]].copy()\n",
    "tmp = len(df2)\n",
    "df2.dropna()\n",
    "fl = True\n",
    "if len(df2) == tmp:\n",
    "    print(\"No NaN fields detected\")\n",
    "else:\n",
    "    print(\"Cleaned up NaN values, dropped {0} rows\".format(tmp - len(df2)))\n",
    "for i in [\"famsize\", \"Pstatus\", \"guardian\", \"romantic\"]:\n",
    "    if df2[i].dtypes != \"object\":\n",
    "        print(\"wrong data type in column {0}, must be object\".format(i))\n",
    "        fl = False\n",
    "for i in [\"goout\", \"Dalc\", \"Walc\"]:\n",
    "    if df2[i].dtypes != \"int64\":\n",
    "        print(\"wrong data type in column price, must be int64\")\n",
    "        fl = False\n",
    "df_new = df2.assign(alcoeveryday=lambda x: (x.Dalc + x.Walc) / 2)\n",
    "df3 = df_new[df_new['Pstatus'] == 'A'].copy()\n",
    "df4 = df_new[df_new['Pstatus'] == 'T'].copy()\n",
    "df5 = df_new[df_new['guardian'] == 'mother']\n",
    "df6 = df_new[df_new['guardian'] == 'father']"
   ]
  }
 ],
 "metadata": {
  "kernelspec": {
   "display_name": "Python 3 (ipykernel)",
   "language": "python",
   "name": "python3"
  },
  "language_info": {
   "codemirror_mode": {
    "name": "ipython",
    "version": 3
   },
   "file_extension": ".py",
   "mimetype": "text/x-python",
   "name": "python",
   "nbconvert_exporter": "python",
   "pygments_lexer": "ipython3",
   "version": "3.11.0"
  }
 },
 "nbformat": 4,
 "nbformat_minor": 1
}
