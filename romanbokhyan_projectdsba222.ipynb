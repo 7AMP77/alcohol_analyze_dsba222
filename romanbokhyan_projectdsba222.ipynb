{
 "cells": [
  {
   "cell_type": "markdown",
   "metadata": {},
   "source": [
    "# The Impact of Families on Alcohol Problems and Socialization of Children in Portugal.\n"
   ]
  },
  {
   "cell_type": "raw",
   "metadata": {},
   "source": [
    "In this project I am going to check my hypotheze that children living in full families in Portugal and in single-parent families have the same problems with socialization and tendency to alcohol dependence.\n",
    "The original dataset includes a lot of information about Portuguese school students, including information about their families, children's romantic relationships, and alcohol use."
   ]
  },
  {
   "cell_type": "raw",
   "metadata": {},
   "source": [
    "Let's install all the libraries that might be useful to me."
   ]
  },
  {
   "cell_type": "code",
   "execution_count": 3,
   "metadata": {},
   "outputs": [],
   "source": [
    "import numpy as np\n",
    "import pandas as pd\n",
    "import streamlit as st\n",
    "import functions\n",
    "import plotly.graph_objects as go\n",
    "import plotly.figure_factory as ff"
   ]
  },
  {
   "cell_type": "raw",
   "metadata": {},
   "source": [
    "Below I will write the functions that will help me in plotting the graphs."
   ]
  },
  {
   "cell_type": "code",
   "execution_count": 4,
   "metadata": {},
   "outputs": [],
   "source": [
    "import matplotlib.pyplot as plt\n",
    "import streamlit as st\n",
    "import plotly.express as px\n",
    "\n",
    "\n",
    "def drawpie(df, values):\n",
    "    fig = px.pie(df, values=values, names=values)\n",
    "    st.plotly_chart(fig)\n",
    "\n",
    "\n",
    "def drawbox(df, x, y):\n",
    "    fig = px.box(df, x=x, y=y)\n",
    "    st.plotly_chart(fig)\n",
    "\n",
    "\n",
    "def drawbar(df, x, y):\n",
    "    fig = px.bar(df, x=x, y=y)\n",
    "    st.plotly_chart(fig)\n",
    "\n",
    "\n",
    "def drawstak(x, y, xt, yt):\n",
    "    fig, ax = plt.subplots()\n",
    "    plt.stackplot(x, y)\n",
    "    ax.set_ylabel(yt)\n",
    "    ax.set_xlabel(xt)\n",
    "    st.pyplot(fig)\n",
    "\n",
    "\n",
    "def drawline(df, x, y):\n",
    "    fig = px.line(df, x=x, y=y)\n",
    "    st.plotly_chart(fig)\n",
    "\n",
    "\n",
    "def drawscatter(df, x, y):\n",
    "    fig = px.scatter(df, x=x, y=y)\n",
    "    st.plotly_chart(fig)\n",
    "\n",
    "\n"
   ]
  },
  {
   "cell_type": "raw",
   "metadata": {},
   "source": [
    "Below I will sort my dataset, remove unnecessary columns,add new column, check classes and the presence of NaN elements and display the resulting datasets with which I will later work. But before that, I will introduce you to the values that you may encounter in the tables.\n",
    "famize - family size, LE3 - less or equal to 3 or GT3 - greater than 3;\n",
    "Pstatus - parents cohabitation status, T - living together or A - apart;\n",
    "guardian - students guardian ,nominal: mother or father;\n",
    "romantic - with a romantic relationship, binary: yes or no;\n",
    "goout - going out with friends, numeric: from 1 - very low to 5 - very high;\n",
    "Dalc - workday alcohol consumption,numeric: from 1 - very low to 5 - very high;\n",
    "Walc - weekend alcohol consumption, numeric: from 1 - very low to 5 - very high;\n",
    "alcoeveryday - the arithmetic mean of each child's daily alcohol consumption."
   ]
  },
  {
   "cell_type": "code",
   "execution_count": 5,
   "metadata": {},
   "outputs": [
    {
     "name": "stdout",
     "output_type": "stream",
     "text": [
      "No NaN fields detected\n"
     ]
    }
   ],
   "source": [
    "df = pd.read_csv('Maths.csv')\n",
    "df2 = df[[\"famsize\", \"Pstatus\", \"guardian\", \"romantic\", \"goout\", \"Dalc\", \"Walc\"]].copy()\n",
    "df2 = df2[df2.guardian != 'other']\n",
    "tmp = len(df2)\n",
    "df2.dropna()\n",
    "fl = True\n",
    "if len(df2) == tmp:\n",
    "    print(\"No NaN fields detected\")\n",
    "else:\n",
    "    print(\"Cleaned up NaN values, dropped {0} rows\".format(tmp - len(df2)))\n",
    "for i in [\"famsize\", \"Pstatus\", \"guardian\", \"romantic\"]:\n",
    "    if df2[i].dtypes != \"object\":\n",
    "        print(\"wrong data type in column {0}, must be object\".format(i))\n",
    "        fl = False\n",
    "for i in [\"goout\", \"Dalc\", \"Walc\"]:\n",
    "    if df2[i].dtypes != \"int64\":\n",
    "        print(\"wrong data type in column price, must be int64\")\n",
    "        fl = False\n",
    "df_new = df2.assign(alcoeveryday=lambda x: (x.Dalc + x.Walc) / 2)\n",
    "df3 = df_new[df_new['Pstatus'] == 'A'].copy()\n",
    "df4 = df_new[df_new['Pstatus'] == 'T'].copy()\n",
    "df5 = df_new[df_new['guardian'] == 'mother']\n",
    "df6 = df_new[df_new['guardian'] == 'father']"
   ]
  },
  {
   "cell_type": "raw",
   "metadata": {},
   "source": [
    "DataFrame with new column named \"alcoeveryday\"."
   ]
  },
  {
   "cell_type": "code",
   "execution_count": 6,
   "metadata": {},
   "outputs": [
    {
     "name": "stdout",
     "output_type": "stream",
     "text": [
      "    famsize Pstatus guardian romantic  goout  Dalc  Walc  alcoeveryday\n",
      "0       GT3       A   mother       no      4     1     1           1.0\n",
      "1       GT3       T   father       no      3     1     1           1.0\n",
      "2       LE3       T   mother       no      2     2     3           2.5\n",
      "3       GT3       T   mother      yes      2     1     1           1.0\n",
      "4       GT3       T   father       no      2     1     2           1.5\n",
      "..      ...     ...      ...      ...    ...   ...   ...           ...\n",
      "388     LE3       T   mother       no      4     1     1           1.0\n",
      "389     GT3       T   mother       no      1     1     1           1.0\n",
      "391     LE3       T   mother       no      5     3     4           3.5\n",
      "393     LE3       T   mother       no      1     3     4           3.5\n",
      "394     LE3       T   father       no      3     3     3           3.0\n",
      "\n",
      "[363 rows x 8 columns]\n"
     ]
    }
   ],
   "source": [
    "print(df_new)"
   ]
  },
  {
   "cell_type": "raw",
   "metadata": {},
   "source": [
    "DataFrame showing values only about kids living in full families."
   ]
  },
  {
   "cell_type": "code",
   "execution_count": 7,
   "metadata": {},
   "outputs": [
    {
     "name": "stdout",
     "output_type": "stream",
     "text": [
      "    famsize Pstatus guardian romantic  goout  Dalc  Walc  alcoeveryday\n",
      "1       GT3       T   father       no      3     1     1           1.0\n",
      "2       LE3       T   mother       no      2     2     3           2.5\n",
      "3       GT3       T   mother      yes      2     1     1           1.0\n",
      "4       GT3       T   father       no      2     1     2           1.5\n",
      "5       LE3       T   mother       no      2     1     2           1.5\n",
      "..      ...     ...      ...      ...    ...   ...   ...           ...\n",
      "388     LE3       T   mother       no      4     1     1           1.0\n",
      "389     GT3       T   mother       no      1     1     1           1.0\n",
      "391     LE3       T   mother       no      5     3     4           3.5\n",
      "393     LE3       T   mother       no      1     3     4           3.5\n",
      "394     LE3       T   father       no      3     3     3           3.0\n",
      "\n",
      "[327 rows x 8 columns]\n"
     ]
    }
   ],
   "source": [
    "print(df4)"
   ]
  },
  {
   "cell_type": "raw",
   "metadata": {},
   "source": [
    "DataFrame showing values only about kids living in apart families."
   ]
  },
  {
   "cell_type": "code",
   "execution_count": 8,
   "metadata": {},
   "outputs": [
    {
     "name": "stdout",
     "output_type": "stream",
     "text": [
      "    famsize Pstatus guardian romantic  goout  Dalc  Walc  alcoeveryday\n",
      "0       GT3       A   mother       no      4     1     1           1.0\n",
      "7       GT3       A   mother       no      4     1     1           1.0\n",
      "8       LE3       A   mother       no      2     1     1           1.0\n",
      "28      LE3       A   mother       no      3     1     1           1.0\n",
      "37      GT3       A   mother      yes      3     1     1           1.0\n",
      "45      LE3       A   mother      yes      2     1     1           1.0\n",
      "46      LE3       A   mother       no      5     1     4           2.5\n",
      "52      LE3       A   father       no      5     3     4           3.5\n",
      "54      LE3       A   mother       no      4     4     4           4.0\n",
      "55      GT3       A   mother      yes      4     1     1           1.0\n",
      "56      GT3       A   mother       no      2     1     1           1.0\n",
      "66      GT3       A   mother      yes      3     5     5           5.0\n",
      "89      LE3       A   mother       no      3     3     5           4.0\n",
      "104     GT3       A   mother       no      4     1     1           1.0\n",
      "105     GT3       A   father       no      3     1     1           1.0\n",
      "110     LE3       A   mother       no      3     1     1           1.0\n",
      "126     LE3       A   mother      yes      2     1     1           1.0\n",
      "133     GT3       A   father       no      1     1     4           2.5\n",
      "149     LE3       A   mother       no      5     2     5           3.5\n",
      "188     GT3       A   mother      yes      3     1     3           2.0\n",
      "206     GT3       A   mother       no      3     2     2           2.0\n",
      "212     GT3       A   mother       no      4     1     1           1.0\n",
      "229     GT3       A   mother      yes      3     1     2           1.5\n",
      "241     LE3       A   mother       no      3     2     3           2.5\n",
      "257     LE3       A   mother       no      1     1     1           1.0\n",
      "265     LE3       A   mother       no      5     3     4           3.5\n",
      "276     GT3       A   mother      yes      1     1     1           1.0\n",
      "280     LE3       A   mother      yes      4     2     4           3.0\n",
      "281     LE3       A   mother       no      4     3     4           3.5\n",
      "289     LE3       A   mother       no      3     1     1           1.0\n",
      "300     LE3       A   mother      yes      4     1     1           1.0\n",
      "320     GT3       A   mother      yes      2     1     2           1.5\n",
      "339     GT3       A   mother       no      3     2     3           2.5\n",
      "343     GT3       A   father      yes      1     1     2           1.5\n",
      "357     LE3       A   mother      yes      3     1     2           1.5\n",
      "360     LE3       A   mother      yes      4     1     4           2.5\n"
     ]
    }
   ],
   "source": [
    "print(df3)"
   ]
  },
  {
   "cell_type": "raw",
   "metadata": {},
   "source": [
    "DataFrame showing values only about kids living with mother."
   ]
  },
  {
   "cell_type": "code",
   "execution_count": 9,
   "metadata": {},
   "outputs": [
    {
     "name": "stdout",
     "output_type": "stream",
     "text": [
      "    famsize Pstatus guardian romantic  goout  Dalc  Walc  alcoeveryday\n",
      "0       GT3       A   mother       no      4     1     1           1.0\n",
      "2       LE3       T   mother       no      2     2     3           2.5\n",
      "3       GT3       T   mother      yes      2     1     1           1.0\n",
      "5       LE3       T   mother       no      2     1     2           1.5\n",
      "6       LE3       T   mother       no      4     1     1           1.0\n",
      "..      ...     ...      ...      ...    ...   ...   ...           ...\n",
      "387     GT3       T   mother       no      2     1     2           1.5\n",
      "388     LE3       T   mother       no      4     1     1           1.0\n",
      "389     GT3       T   mother       no      1     1     1           1.0\n",
      "391     LE3       T   mother       no      5     3     4           3.5\n",
      "393     LE3       T   mother       no      1     3     4           3.5\n",
      "\n",
      "[273 rows x 8 columns]\n"
     ]
    }
   ],
   "source": [
    "print(df5)"
   ]
  },
  {
   "cell_type": "raw",
   "metadata": {},
   "source": [
    "DataFrame showing values only about kids living with father."
   ]
  },
  {
   "cell_type": "code",
   "execution_count": 10,
   "metadata": {},
   "outputs": [
    {
     "name": "stdout",
     "output_type": "stream",
     "text": [
      "    famsize Pstatus guardian romantic  goout  Dalc  Walc  alcoeveryday\n",
      "1       GT3       T   father       no      3     1     1           1.0\n",
      "4       GT3       T   father       no      2     1     2           1.5\n",
      "11      GT3       T   father       no      2     1     1           1.0\n",
      "12      LE3       T   father       no      3     1     3           2.0\n",
      "19      LE3       T   father       no      3     1     3           2.0\n",
      "..      ...     ...      ...      ...    ...   ...   ...           ...\n",
      "371     LE3       T   father      yes      3     2     3           2.5\n",
      "380     GT3       T   father       no      4     1     4           2.5\n",
      "382     GT3       T   father       no      3     1     1           1.0\n",
      "384     GT3       T   father       no      3     4     3           3.5\n",
      "394     LE3       T   father       no      3     3     3           3.0\n",
      "\n",
      "[90 rows x 8 columns]\n"
     ]
    }
   ],
   "source": [
    "print(df6)"
   ]
  },
  {
   "cell_type": "raw",
   "metadata": {},
   "source": [
    "Above you can see statistics of each DataFrame."
   ]
  },
  {
   "cell_type": "raw",
   "metadata": {},
   "source": [
    "Statistics of DataFrame with all values."
   ]
  },
  {
   "cell_type": "code",
   "execution_count": 11,
   "metadata": {},
   "outputs": [
    {
     "name": "stdout",
     "output_type": "stream",
     "text": [
      "            goout        Dalc        Walc  alcoeveryday\n",
      "count  363.000000  363.000000  363.000000    363.000000\n",
      "mean     3.112948    1.471074    2.308540      1.889807\n",
      "std      1.120341    0.886433    1.295384      0.991110\n",
      "min      1.000000    1.000000    1.000000      1.000000\n",
      "25%      2.000000    1.000000    1.000000      1.000000\n",
      "50%      3.000000    1.000000    2.000000      1.500000\n",
      "75%      4.000000    2.000000    3.000000      2.500000\n",
      "max      5.000000    5.000000    5.000000      5.000000\n"
     ]
    }
   ],
   "source": [
    "print(df_new.describe())"
   ]
  },
  {
   "cell_type": "markdown",
   "metadata": {},
   "source": [
    "DataFrame statistics with values about kids living in apart families."
   ]
  },
  {
   "cell_type": "code",
   "execution_count": 12,
   "metadata": {},
   "outputs": [
    {
     "name": "stdout",
     "output_type": "stream",
     "text": [
      "           goout       Dalc       Walc  alcoeveryday\n",
      "count  36.000000  36.000000  36.000000     36.000000\n",
      "mean    3.138889   1.555556   2.305556      1.930556\n",
      "std     1.150224   0.998411   1.470072      1.147375\n",
      "min     1.000000   1.000000   1.000000      1.000000\n",
      "25%     2.750000   1.000000   1.000000      1.000000\n",
      "50%     3.000000   1.000000   2.000000      1.500000\n",
      "75%     4.000000   2.000000   4.000000      2.500000\n",
      "max     5.000000   5.000000   5.000000      5.000000\n"
     ]
    }
   ],
   "source": [
    "print(df3.describe())"
   ]
  },
  {
   "cell_type": "markdown",
   "metadata": {},
   "source": [
    "DataFrame statistics with values about kids living in full families."
   ]
  },
  {
   "cell_type": "code",
   "execution_count": 13,
   "metadata": {},
   "outputs": [
    {
     "name": "stdout",
     "output_type": "stream",
     "text": [
      "            goout        Dalc        Walc  alcoeveryday\n",
      "count  327.000000  327.000000  327.000000    327.000000\n",
      "mean     3.110092    1.461774    2.308869      1.885321\n",
      "std      1.118770    0.874436    1.277224      0.974285\n",
      "min      1.000000    1.000000    1.000000      1.000000\n",
      "25%      2.000000    1.000000    1.000000      1.000000\n",
      "50%      3.000000    1.000000    2.000000      1.500000\n",
      "75%      4.000000    2.000000    3.000000      2.500000\n",
      "max      5.000000    5.000000    5.000000      5.000000\n"
     ]
    }
   ],
   "source": [
    "print(df4.describe())"
   ]
  },
  {
   "cell_type": "markdown",
   "metadata": {},
   "source": [
    "DataFrame statistics with values about kids living with mother."
   ]
  },
  {
   "cell_type": "code",
   "execution_count": 14,
   "metadata": {},
   "outputs": [
    {
     "name": "stdout",
     "output_type": "stream",
     "text": [
      "            goout        Dalc        Walc  alcoeveryday\n",
      "count  273.000000  273.000000  273.000000    273.000000\n",
      "mean     3.168498    1.450549    2.296703      1.873626\n",
      "std      1.131516    0.873596    1.304640      0.995191\n",
      "min      1.000000    1.000000    1.000000      1.000000\n",
      "25%      2.000000    1.000000    1.000000      1.000000\n",
      "50%      3.000000    1.000000    2.000000      1.500000\n",
      "75%      4.000000    2.000000    3.000000      2.500000\n",
      "max      5.000000    5.000000    5.000000      5.000000\n"
     ]
    }
   ],
   "source": [
    "print(df5.describe())"
   ]
  },
  {
   "cell_type": "markdown",
   "metadata": {},
   "source": [
    "DataFrame statistics with values about kids living with father."
   ]
  },
  {
   "cell_type": "code",
   "execution_count": 15,
   "metadata": {},
   "outputs": [
    {
     "name": "stdout",
     "output_type": "stream",
     "text": [
      "           goout       Dalc       Walc  alcoeveryday\n",
      "count  90.000000  90.000000  90.000000     90.000000\n",
      "mean    2.944444   1.533333   2.344444      1.938889\n",
      "std     1.074329   0.926513   1.273420      0.982509\n",
      "min     1.000000   1.000000   1.000000      1.000000\n",
      "25%     2.000000   1.000000   1.000000      1.000000\n",
      "50%     3.000000   1.000000   2.000000      1.500000\n",
      "75%     4.000000   2.000000   3.000000      2.500000\n",
      "max     5.000000   5.000000   5.000000      5.000000\n"
     ]
    }
   ],
   "source": [
    "print(df6.describe())"
   ]
  },
  {
   "cell_type": "markdown",
   "metadata": {},
   "source": []
  }
 ],
 "metadata": {
  "kernelspec": {
   "display_name": "Python 3 (ipykernel)",
   "language": "python",
   "name": "python3"
  },
  "language_info": {
   "codemirror_mode": {
    "name": "ipython",
    "version": 3
   },
   "file_extension": ".py",
   "mimetype": "text/x-python",
   "name": "python",
   "nbconvert_exporter": "python",
   "pygments_lexer": "ipython3",
   "version": "3.11.0"
  }
 },
 "nbformat": 4,
 "nbformat_minor": 1
}
